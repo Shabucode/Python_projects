{
  "nbformat": 4,
  "nbformat_minor": 0,
  "metadata": {
    "colab": {
      "provenance": []
    },
    "kernelspec": {
      "name": "python3",
      "display_name": "Python 3"
    },
    "language_info": {
      "name": "python"
    }
  },
  "cells": [
    {
      "cell_type": "code",
      "source": [
        "import functools\n",
        "\n",
        "def cache(limits):\n",
        "    if not isinstance(limits, dict):\n",
        "        raise TypeError(\"Limits must be a dictionary.\")\n",
        "\n",
        "    def decorator(func):\n",
        "        # Dictionary to store cached results\n",
        "        func_cache = {}\n",
        "\n",
        "        @functools.wraps(func)\n",
        "        def wrapper(*args):\n",
        "            # Check argument limits\n",
        "            for index, max_value in limits.items():\n",
        "                if index < len(args) and args[index] > max_value:\n",
        "                    raise ValueError(f\"Argument at index {index} exceeds maximum value of {max_value}.\")\n",
        "\n",
        "            # Check if the result is already cached\n",
        "            if args in func_cache:\n",
        "                return func_cache[args]\n",
        "\n",
        "            # Compute and cache the result\n",
        "            result = func(*args)\n",
        "            func_cache[args] = result\n",
        "            return result\n",
        "\n",
        "        return wrapper\n",
        "\n",
        "    return decorator\n",
        "\n",
        "@cache(limits={0: 200})\n",
        "def fibonacci(n: int) -> int:\n",
        "    if n == 0:\n",
        "        return 0\n",
        "    if n == 1:\n",
        "        return 1\n",
        "    return fibonacci(n - 1) + fibonacci(n - 2)\n",
        "\n",
        "@cache(limits={0: 100000, 1: 200})\n",
        "def exponent(a: int, b: int) -> int:\n",
        "    if b == 0:\n",
        "        return 1\n",
        "    if b == 1:\n",
        "        return a\n",
        "    return a * exponent(a, b - 1)\n",
        "\n",
        "@cache(limits={0: 200})\n",
        "def factorial(n: int, mod: int = 10**9 + 7) -> int:\n",
        "    if n == 1:\n",
        "        return n\n",
        "    return n * factorial(n - 1, mod) % mod\n",
        "\n",
        "# Example usage:\n",
        "try:\n",
        "    print(fibonacci(10))  # Output: 55\n",
        "    print(exponent(2, 10))  # Output: 1024\n",
        "    print(factorial(5))  # Output: 120\n",
        "    print(fibonacci(201))  # Should raise ValueError\n",
        "except ValueError as e:\n",
        "    print(e)\n"
      ],
      "metadata": {
        "colab": {
          "base_uri": "https://localhost:8080/"
        },
        "id": "vEVMzHVQew8o",
        "outputId": "6c4523b2-3b85-4b55-c1df-9737013ca5a3"
      },
      "execution_count": 2,
      "outputs": [
        {
          "output_type": "stream",
          "name": "stdout",
          "text": [
            "55\n",
            "1024\n",
            "120\n",
            "Argument at index 0 exceeds maximum value of 200.\n"
          ]
        }
      ]
    },
    {
      "cell_type": "code",
      "source": [
        "class Message:\n",
        "    def __init__(self, text: str, sender: int, receiver: int):\n",
        "        self.text = text\n",
        "        self.sender = sender\n",
        "        self.receiver = receiver\n",
        "\n",
        "    def __str__(self):\n",
        "        return self.text\n",
        "\n",
        "    def __eq__(self, other):\n",
        "        if isinstance(other, Message):\n",
        "            return self.text == other.text\n",
        "        return False\n",
        "\n",
        "# Example usage:\n",
        "message1 = Message(\"Hello!\", 1, 2)\n",
        "message2 = Message(\"Hello World!\", 3, 2)\n",
        "message3 = Message(\"Hello World!\", 1, 3)\n",
        "\n",
        "print(message1)  # Output: Hello!\n",
        "print(message1 == message2)  # Output: False\n",
        "print(message2 == message3)  # Output: True\n"
      ],
      "metadata": {
        "colab": {
          "base_uri": "https://localhost:8080/"
        },
        "id": "vEu8fgKze2uX",
        "outputId": "a265c7bd-91fb-434f-c209-717abfb7ecd7"
      },
      "execution_count": 3,
      "outputs": [
        {
          "output_type": "stream",
          "name": "stdout",
          "text": [
            "Hello!\n",
            "False\n",
            "True\n"
          ]
        }
      ]
    }
  ]
}