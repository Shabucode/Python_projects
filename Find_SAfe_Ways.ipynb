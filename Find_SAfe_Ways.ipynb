{
  "nbformat": 4,
  "nbformat_minor": 0,
  "metadata": {
    "colab": {
      "provenance": []
    },
    "kernelspec": {
      "name": "python3",
      "display_name": "Python 3"
    },
    "language_info": {
      "name": "python"
    }
  },
  "cells": [
    {
      "cell_type": "code",
      "execution_count": 1,
      "metadata": {
        "colab": {
          "base_uri": "https://localhost:8080/"
        },
        "id": "h6TrjjXBd3pL",
        "outputId": "6e50bb5d-dbf7-4c70-97cf-1246dda044e4"
      },
      "outputs": [
        {
          "output_type": "stream",
          "name": "stdout",
          "text": [
            "2\n"
          ]
        }
      ],
      "source": [
        "def findSafeWays(grid):\n",
        "    MOD = 10**9 + 7\n",
        "    n = len(grid)\n",
        "    m = len(grid[0])\n",
        "\n",
        "    # If the start or end cell is a landmine, return 0 as there's no way\n",
        "    if grid[0][0] == 0 or grid[n-1][m-1] == 0:\n",
        "        return 0\n",
        "\n",
        "    # Create a dp table to store the number of ways to each cell\n",
        "    dp = [[0] * m for _ in range(n)]\n",
        "\n",
        "    # Initialize the starting point\n",
        "    dp[0][0] = 1\n",
        "\n",
        "    # Fill the dp table\n",
        "    for i in range(n):\n",
        "        for j in range(m):\n",
        "            if grid[i][j] == 0:\n",
        "                dp[i][j] = 0  # Can't step on landmine\n",
        "            else:\n",
        "                if i > 0:\n",
        "                    dp[i][j] += dp[i-1][j]  # Add ways from the top cell\n",
        "                if j > 0:\n",
        "                    dp[i][j] += dp[i][j-1]  # Add ways from the left cell\n",
        "                dp[i][j] %= MOD  # Take modulo to prevent overflow\n",
        "\n",
        "    # Return the number of ways to the bottom-right corner\n",
        "    return dp[n-1][m-1]\n",
        "\n",
        "# Example:\n",
        "grid = [\n",
        "    [1, 1, 1],\n",
        "    [1, 0, 1],\n",
        "    [1, 1, 1]\n",
        "]\n",
        "print(findSafeWays(grid))  # Output: 2\n"
      ]
    }
  ]
}
